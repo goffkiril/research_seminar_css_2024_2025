{
 "cells": [
  {
   "cell_type": "markdown",
   "metadata": {},
   "source": [
    "## НИС 24/25, ВСН\n",
    "\n",
    "## Семинар 1\n",
    "\n",
    "### Подготовил: kiril"
   ]
  },
  {
   "cell_type": "markdown",
   "metadata": {},
   "source": [
    "\n",
    "\n",
    "### 1. Что такое скрепинг и парсинг?\n",
    "\n",
    "**Скрепинг** и **парсинг** — это два важных процесса, которые применяются для извлечения данных с веб-страниц.\n",
    "\n",
    "#### Скрепинг\n",
    "\n",
    "**Скрепинг** (или веб-скрепинг) — это процесс автоматического извлечения данных с веб-сайтов. Цель скрапинга — собрать данные из определенного источника в удобном формате для дальнейшего анализа, обработки или хранения. Веб-скрапинг может применяться для:\n",
    "\n",
    "- Сбора информации о товарах и ценах с сайтов интернет-магазинов,\n",
    "- Получения актуальных новостей с новостных ресурсов,\n",
    "- Сбора статистики с различных информационных порталов.\n",
    "\n",
    "С помощью скрепинга можно автоматически обойти множество страниц, используя специально написанные программы (скрипты). Эти программы используют HTTP-запросы и получают HTML-код страницы, который затем анализируется для извлечения нужных данных.\n",
    "\n",
    "#### Парсинг\n",
    "\n",
    "**Парсинг** — это процесс обработки и извлечения данных из структуры HTML-кода или другого текста. Парсинг следует за скрапингом, когда мы уже получили HTML-код страницы. Основная цель парсинга — \"понять\" содержимое страницы и выделить из него конкретные данные.\n",
    "\n",
    "Парсинг включает:\n",
    "\n",
    "- **Анализ HTML-структуры страницы**: Мы можем работать с HTML-тегами и атрибутами, чтобы точно выделить необходимые данные, такие как текст, ссылки, изображения, таблицы и т.д.\n",
    "- **Извлечение данных по определенным шаблонам**: Например, можно извлечь все заголовки новостей, даты, цены или другие структурированные элементы.\n",
    "\n",
    "Парсинг часто осуществляется с использованием библиотек Python, таких как **BeautifulSoup**, **lxml** или **re** (для регулярных выражений), которые помогают легко находить и извлекать нужные данные из HTML.\n",
    "\n",
    "#### Разница между скрапингом и парсингом\n",
    "\n",
    "- **Скрепинг** — это процесс получения HTML-кода страницы с сайта.\n",
    "- **Парсинг** — это извлечение нужной информации из полученного HTML-кода.\n",
    "\n",
    "Обычно эти процессы идут последовательно: сначала выполняется скрепинг, чтобы получить HTML-код, а затем парсинг для извлечения необходимых данных из этого кода.\n",
    "\n",
    "#### Пример процесса скрепинга и парсинга\n",
    "\n",
    "1. **Скрепинг**: Программа отправляет HTTP-запрос на сайт и получает HTML-код страницы.\n",
    "2. **Парсинг**: С помощью библиотеки, например, BeautifulSoup, программа обрабатывает HTML-код, находит нужные элементы (например, цены или заголовки) и сохраняет их в удобном для работы формате, таком как таблица или файл CSV.\n",
    "\n",
    "#### Инструменты для скрепинга и парсинга\n",
    "\n",
    "- **Requests**: библиотека для отправки HTTP-запросов, чтобы получить HTML-код страницы.\n",
    "- **BeautifulSoup**: библиотека для удобного парсинга HTML и XML документов.\n",
    "- **Selenium**: инструмент для скрапинга сайтов, где требуется взаимодействие с динамическим контентом.\n",
    "- **Scrapy**: фреймворк для построения крупных систем скрепинга и парсинга.\n",
    "\n",
    "Эти процессы позволяют автоматизировать сбор данных и извлечение информации, что особенно полезно при обработке большого объема данных с веб-страниц.\n"
   ]
  },
  {
   "cell_type": "markdown",
   "metadata": {},
   "source": [
    "### 2. Примеры статей, где используюся спаршенные данные"
   ]
  },
  {
   "cell_type": "markdown",
   "metadata": {},
   "source": [
    "### 3. Pandas"
   ]
  },
  {
   "cell_type": "markdown",
   "metadata": {},
   "source": [
    "Исследовательская работа как правило, сводится к анализу табличных данных. Начинать мы можем с большого количества сложных таблиц, изображений, текстов или ещё чего-то непростого, но в итоге всё это обычно сводится к одной таблице, где каждый объект описывается набором признаков. Поэтому важно уметь работать с таблицами.\n",
    "\n",
    "А ещё есть некоторые исследования, показывающие, что в решении задачи интеллектуального анализа данных обычно 20% времени уходит на построение моделей и прочую интересную работу, связанную с тем, что рассказывается у нас на лекциях, а 80% времени специалисты тратят на подготовку и обработку данных. Сюда входит формирование признаков, устранение выбросов и пропусков и т.д. И это тоже, по сути дела, манипуляции с таблицами.\n",
    "\n",
    "Вывод: важно уметь работать с табличными данными. В Python для этого есть библиотека pandas, которую мы и будем сегодня изучать."
   ]
  },
  {
   "cell_type": "code",
   "execution_count": 155,
   "metadata": {},
   "outputs": [
    {
     "name": "stdout",
     "output_type": "stream",
     "text": [
      "Requirement already satisfied: pandas in /Library/Frameworks/Python.framework/Versions/3.11/lib/python3.11/site-packages (2.0.3)\n",
      "Requirement already satisfied: matplotlib in /Library/Frameworks/Python.framework/Versions/3.11/lib/python3.11/site-packages (3.8.3)\n",
      "Requirement already satisfied: numpy in /Library/Frameworks/Python.framework/Versions/3.11/lib/python3.11/site-packages (1.26.3)\n",
      "Requirement already satisfied: python-dateutil>=2.8.2 in /Library/Frameworks/Python.framework/Versions/3.11/lib/python3.11/site-packages (from pandas) (2.8.2)\n",
      "Requirement already satisfied: pytz>=2020.1 in /Library/Frameworks/Python.framework/Versions/3.11/lib/python3.11/site-packages (from pandas) (2023.3.post1)\n",
      "Requirement already satisfied: tzdata>=2022.1 in /Library/Frameworks/Python.framework/Versions/3.11/lib/python3.11/site-packages (from pandas) (2023.4)\n",
      "Requirement already satisfied: contourpy>=1.0.1 in /Library/Frameworks/Python.framework/Versions/3.11/lib/python3.11/site-packages (from matplotlib) (1.2.0)\n",
      "Requirement already satisfied: cycler>=0.10 in /Library/Frameworks/Python.framework/Versions/3.11/lib/python3.11/site-packages (from matplotlib) (0.12.1)\n",
      "Requirement already satisfied: fonttools>=4.22.0 in /Library/Frameworks/Python.framework/Versions/3.11/lib/python3.11/site-packages (from matplotlib) (4.49.0)\n",
      "Requirement already satisfied: kiwisolver>=1.3.1 in /Library/Frameworks/Python.framework/Versions/3.11/lib/python3.11/site-packages (from matplotlib) (1.4.5)\n",
      "Requirement already satisfied: packaging>=20.0 in /Library/Frameworks/Python.framework/Versions/3.11/lib/python3.11/site-packages (from matplotlib) (23.2)\n",
      "Requirement already satisfied: pillow>=8 in /Library/Frameworks/Python.framework/Versions/3.11/lib/python3.11/site-packages (from matplotlib) (10.2.0)\n",
      "Requirement already satisfied: pyparsing>=2.3.1 in /Library/Frameworks/Python.framework/Versions/3.11/lib/python3.11/site-packages (from matplotlib) (3.1.1)\n",
      "Requirement already satisfied: six>=1.5 in /Library/Frameworks/Python.framework/Versions/3.11/lib/python3.11/site-packages (from python-dateutil>=2.8.2->pandas) (1.16.0)\n",
      "\n",
      "\u001b[1m[\u001b[0m\u001b[34;49mnotice\u001b[0m\u001b[1;39;49m]\u001b[0m\u001b[39;49m A new release of pip is available: \u001b[0m\u001b[31;49m24.2\u001b[0m\u001b[39;49m -> \u001b[0m\u001b[32;49m24.3.1\u001b[0m\n",
      "\u001b[1m[\u001b[0m\u001b[34;49mnotice\u001b[0m\u001b[1;39;49m]\u001b[0m\u001b[39;49m To update, run: \u001b[0m\u001b[32;49mpip3 install --upgrade pip\u001b[0m\n"
     ]
    }
   ],
   "source": [
    "!pip3 install pandas matplotlib numpy"
   ]
  },
  {
   "cell_type": "markdown",
   "metadata": {},
   "source": [
    "Чаще всего название библиотеки при импорте сокращают до \"pd\":"
   ]
  },
  {
   "cell_type": "code",
   "execution_count": 156,
   "metadata": {},
   "outputs": [],
   "source": [
    "import pandas as pd"
   ]
  },
  {
   "cell_type": "markdown",
   "metadata": {},
   "source": [
    "Загрузим данные (обратите внимание, что мы легко читаем xlsx-файлы):"
   ]
  },
  {
   "cell_type": "code",
   "execution_count": 157,
   "metadata": {},
   "outputs": [],
   "source": [
    "!wget -O 'tmp/Алгоритмы_и_Структуры_Данных_ВСН_2023_4 модуль.xlsx' -q 'https://www.dropbox.com/scl/fi/mjqob6pfs30gp9fq8f8w5/2023-4.xlsx?rlkey=isvudkqzuxpr2rjgqfla9pb6t&st=ty4sasyb&dl=0'"
   ]
  },
  {
   "cell_type": "markdown",
   "metadata": {},
   "source": [
    "Для пользователей Windows: скачайте файл самостоятельно и поместите его в папку с тетрадкой."
   ]
  },
  {
   "cell_type": "markdown",
   "metadata": {},
   "source": [
    "Давайте прочтем файл и удалим лишнюю информацию (константы и ненужные данные)"
   ]
  },
  {
   "cell_type": "code",
   "execution_count": 158,
   "metadata": {},
   "outputs": [
    {
     "data": {
      "text/html": [
       "<div>\n",
       "<style scoped>\n",
       "    .dataframe tbody tr th:only-of-type {\n",
       "        vertical-align: middle;\n",
       "    }\n",
       "\n",
       "    .dataframe tbody tr th {\n",
       "        vertical-align: top;\n",
       "    }\n",
       "\n",
       "    .dataframe thead th {\n",
       "        text-align: right;\n",
       "    }\n",
       "</style>\n",
       "<table border=\"1\" class=\"dataframe\">\n",
       "  <thead>\n",
       "    <tr style=\"text-align: right;\">\n",
       "      <th></th>\n",
       "      <th>Студент</th>\n",
       "      <th>Codeforces логин</th>\n",
       "      <th>2024-04-06 00:00:00</th>\n",
       "      <th>2024-04-13 00:00:00</th>\n",
       "      <th>2024-04-18 00:00:00</th>\n",
       "      <th>2024-04-27 00:00:00</th>\n",
       "      <th>2024-05-11 00:00:00</th>\n",
       "      <th>2024-05-18 00:00:00</th>\n",
       "      <th>2024-05-25 00:00:00</th>\n",
       "      <th>2024-06-01 00:00:00</th>\n",
       "      <th>...</th>\n",
       "      <th>Бонус ДЗ</th>\n",
       "      <th>Сумма ДЗ</th>\n",
       "      <th>КР 1</th>\n",
       "      <th>Коллоквиум</th>\n",
       "      <th>Сумма КР</th>\n",
       "      <th>Бонусы</th>\n",
       "      <th>Результат для автомата</th>\n",
       "      <th>Экзамен</th>\n",
       "      <th>Результат</th>\n",
       "      <th>Итоговая оценка</th>\n",
       "    </tr>\n",
       "  </thead>\n",
       "  <tbody>\n",
       "    <tr>\n",
       "      <th>0</th>\n",
       "      <td>Андреева Анастасия</td>\n",
       "      <td>Anvvq</td>\n",
       "      <td>0.0</td>\n",
       "      <td>0.0</td>\n",
       "      <td>0.0</td>\n",
       "      <td>0.0</td>\n",
       "      <td>0.0</td>\n",
       "      <td>0.0</td>\n",
       "      <td>0.0</td>\n",
       "      <td>0.0</td>\n",
       "      <td>...</td>\n",
       "      <td>0.0</td>\n",
       "      <td>0.0000</td>\n",
       "      <td>0.0</td>\n",
       "      <td>0.0</td>\n",
       "      <td>0.00</td>\n",
       "      <td>0.0</td>\n",
       "      <td>0.000000</td>\n",
       "      <td>0.0</td>\n",
       "      <td>0.000000</td>\n",
       "      <td>0.000000</td>\n",
       "    </tr>\n",
       "    <tr>\n",
       "      <th>1</th>\n",
       "      <td>Андреянова Софья</td>\n",
       "      <td>ssonyii</td>\n",
       "      <td>3.0</td>\n",
       "      <td>1.0</td>\n",
       "      <td>3.0</td>\n",
       "      <td>1.0</td>\n",
       "      <td>1.0</td>\n",
       "      <td>1.0</td>\n",
       "      <td>3.0</td>\n",
       "      <td>2.0</td>\n",
       "      <td>...</td>\n",
       "      <td>0.0</td>\n",
       "      <td>7.6500</td>\n",
       "      <td>10.0</td>\n",
       "      <td>10.0</td>\n",
       "      <td>10.00</td>\n",
       "      <td>10.0</td>\n",
       "      <td>9.275466</td>\n",
       "      <td>8.0</td>\n",
       "      <td>9.042826</td>\n",
       "      <td>9.042826</td>\n",
       "    </tr>\n",
       "    <tr>\n",
       "      <th>2</th>\n",
       "      <td>Ахряпина Мария</td>\n",
       "      <td>MashaAkhr</td>\n",
       "      <td>3.5</td>\n",
       "      <td>2.5</td>\n",
       "      <td>2.0</td>\n",
       "      <td>1.0</td>\n",
       "      <td>2.0</td>\n",
       "      <td>1.5</td>\n",
       "      <td>2.0</td>\n",
       "      <td>1.0</td>\n",
       "      <td>...</td>\n",
       "      <td>0.0</td>\n",
       "      <td>8.7250</td>\n",
       "      <td>6.0</td>\n",
       "      <td>8.5</td>\n",
       "      <td>7.25</td>\n",
       "      <td>0.0</td>\n",
       "      <td>8.026553</td>\n",
       "      <td>0.0</td>\n",
       "      <td>5.618587</td>\n",
       "      <td>8.000000</td>\n",
       "    </tr>\n",
       "    <tr>\n",
       "      <th>3</th>\n",
       "      <td>Бельченко Алиса</td>\n",
       "      <td>Belloid</td>\n",
       "      <td>0.0</td>\n",
       "      <td>0.0</td>\n",
       "      <td>0.0</td>\n",
       "      <td>0.0</td>\n",
       "      <td>0.0</td>\n",
       "      <td>0.0</td>\n",
       "      <td>0.0</td>\n",
       "      <td>0.0</td>\n",
       "      <td>...</td>\n",
       "      <td>1.0</td>\n",
       "      <td>9.8750</td>\n",
       "      <td>10.0</td>\n",
       "      <td>9.0</td>\n",
       "      <td>9.50</td>\n",
       "      <td>0.0</td>\n",
       "      <td>8.303571</td>\n",
       "      <td>8.0</td>\n",
       "      <td>8.212500</td>\n",
       "      <td>8.212500</td>\n",
       "    </tr>\n",
       "    <tr>\n",
       "      <th>4</th>\n",
       "      <td>Белявская Виктория</td>\n",
       "      <td>vssukhova</td>\n",
       "      <td>4.0</td>\n",
       "      <td>1.0</td>\n",
       "      <td>4.0</td>\n",
       "      <td>2.0</td>\n",
       "      <td>2.0</td>\n",
       "      <td>2.0</td>\n",
       "      <td>2.5</td>\n",
       "      <td>2.5</td>\n",
       "      <td>...</td>\n",
       "      <td>0.0</td>\n",
       "      <td>7.5875</td>\n",
       "      <td>8.0</td>\n",
       "      <td>10.0</td>\n",
       "      <td>9.00</td>\n",
       "      <td>10.0</td>\n",
       "      <td>9.006444</td>\n",
       "      <td>0.0</td>\n",
       "      <td>6.454511</td>\n",
       "      <td>8.000000</td>\n",
       "    </tr>\n",
       "  </tbody>\n",
       "</table>\n",
       "<p>5 rows × 34 columns</p>\n",
       "</div>"
      ],
      "text/plain": [
       "               Студент Codeforces логин  2024-04-06 00:00:00  \\\n",
       "0   Андреева Анастасия            Anvvq                  0.0   \n",
       "1     Андреянова Софья          ssonyii                  3.0   \n",
       "2       Ахряпина Мария        MashaAkhr                  3.5   \n",
       "3      Бельченко Алиса          Belloid                  0.0   \n",
       "4  Белявская Виктория         vssukhova                  4.0   \n",
       "\n",
       "   2024-04-13 00:00:00  2024-04-18 00:00:00  2024-04-27 00:00:00  \\\n",
       "0                  0.0                  0.0                  0.0   \n",
       "1                  1.0                  3.0                  1.0   \n",
       "2                  2.5                  2.0                  1.0   \n",
       "3                  0.0                  0.0                  0.0   \n",
       "4                  1.0                  4.0                  2.0   \n",
       "\n",
       "   2024-05-11 00:00:00  2024-05-18 00:00:00  2024-05-25 00:00:00  \\\n",
       "0                  0.0                  0.0                  0.0   \n",
       "1                  1.0                  1.0                  3.0   \n",
       "2                  2.0                  1.5                  2.0   \n",
       "3                  0.0                  0.0                  0.0   \n",
       "4                  2.0                  2.0                  2.5   \n",
       "\n",
       "   2024-06-01 00:00:00  ...  Бонус ДЗ  Сумма ДЗ  КР 1  Коллоквиум  Сумма КР  \\\n",
       "0                  0.0  ...       0.0    0.0000   0.0         0.0      0.00   \n",
       "1                  2.0  ...       0.0    7.6500  10.0        10.0     10.00   \n",
       "2                  1.0  ...       0.0    8.7250   6.0         8.5      7.25   \n",
       "3                  0.0  ...       1.0    9.8750  10.0         9.0      9.50   \n",
       "4                  2.5  ...       0.0    7.5875   8.0        10.0      9.00   \n",
       "\n",
       "   Бонусы  Результат для автомата  Экзамен  Результат  Итоговая оценка  \n",
       "0     0.0                0.000000      0.0   0.000000         0.000000  \n",
       "1    10.0                9.275466      8.0   9.042826         9.042826  \n",
       "2     0.0                8.026553      0.0   5.618587         8.000000  \n",
       "3     0.0                8.303571      8.0   8.212500         8.212500  \n",
       "4    10.0                9.006444      0.0   6.454511         8.000000  \n",
       "\n",
       "[5 rows x 34 columns]"
      ]
     },
     "execution_count": 158,
     "metadata": {},
     "output_type": "execute_result"
    }
   ],
   "source": [
    "df = pd.read_excel('tmp/Алгоритмы_и_Структуры_Данных_ВСН_2023_4 модуль.xlsx')\n",
    "df.dropna(subset='Студент',inplace=True)\n",
    "df = df[:35]\n",
    "df.head(5)"
   ]
  },
  {
   "cell_type": "markdown",
   "metadata": {},
   "source": [
    "Посмотрим размер таблицы:"
   ]
  },
  {
   "cell_type": "code",
   "execution_count": 159,
   "metadata": {},
   "outputs": [
    {
     "data": {
      "text/plain": [
       "(35, 34)"
      ]
     },
     "execution_count": 159,
     "metadata": {},
     "output_type": "execute_result"
    }
   ],
   "source": [
    "df.shape"
   ]
  },
  {
   "cell_type": "markdown",
   "metadata": {},
   "source": [
    "Для начала будем работать с одной таблицей. Теперь данные хранятся в переменной ```data3```, которая имеет тип [DataFrame](https://pandas.pydata.org/pandas-docs/stable/reference/api/pandas.DataFrame.html):"
   ]
  },
  {
   "cell_type": "markdown",
   "metadata": {},
   "source": [
    "DataFrame можно создать и вручную:"
   ]
  },
  {
   "cell_type": "code",
   "execution_count": 160,
   "metadata": {},
   "outputs": [
    {
     "data": {
      "text/html": [
       "<div>\n",
       "<style scoped>\n",
       "    .dataframe tbody tr th:only-of-type {\n",
       "        vertical-align: middle;\n",
       "    }\n",
       "\n",
       "    .dataframe tbody tr th {\n",
       "        vertical-align: top;\n",
       "    }\n",
       "\n",
       "    .dataframe thead th {\n",
       "        text-align: right;\n",
       "    }\n",
       "</style>\n",
       "<table border=\"1\" class=\"dataframe\">\n",
       "  <thead>\n",
       "    <tr style=\"text-align: right;\">\n",
       "      <th></th>\n",
       "      <th>AAA</th>\n",
       "      <th>BBB</th>\n",
       "      <th>CCC</th>\n",
       "    </tr>\n",
       "  </thead>\n",
       "  <tbody>\n",
       "    <tr>\n",
       "      <th>0</th>\n",
       "      <td>4</td>\n",
       "      <td>10</td>\n",
       "      <td>100</td>\n",
       "    </tr>\n",
       "    <tr>\n",
       "      <th>1</th>\n",
       "      <td>5</td>\n",
       "      <td>20</td>\n",
       "      <td>50</td>\n",
       "    </tr>\n",
       "    <tr>\n",
       "      <th>2</th>\n",
       "      <td>6</td>\n",
       "      <td>30</td>\n",
       "      <td>E</td>\n",
       "    </tr>\n",
       "    <tr>\n",
       "      <th>3</th>\n",
       "      <td>7</td>\n",
       "      <td>40</td>\n",
       "      <td>-50</td>\n",
       "    </tr>\n",
       "  </tbody>\n",
       "</table>\n",
       "</div>"
      ],
      "text/plain": [
       "   AAA  BBB  CCC\n",
       "0    4   10  100\n",
       "1    5   20   50\n",
       "2    6   30    E\n",
       "3    7   40  -50"
      ]
     },
     "execution_count": 160,
     "metadata": {},
     "output_type": "execute_result"
    }
   ],
   "source": [
    "df_temp = pd.DataFrame({\n",
    "    'AAA': [4, 5, 6, 7], \n",
    "    'BBB': [10, 20, 30, 40], \n",
    "    'CCC': [100, 50, 'E', -50]\n",
    "})\n",
    "df_temp"
   ]
  },
  {
   "cell_type": "markdown",
   "metadata": {},
   "source": [
    "DataFrame можно частично отобразить в jupyter-ноутбуке с помощью методов ```head```(первые строки) и ```sample```(случайные строки):"
   ]
  },
  {
   "cell_type": "code",
   "execution_count": 161,
   "metadata": {},
   "outputs": [
    {
     "data": {
      "text/html": [
       "<div>\n",
       "<style scoped>\n",
       "    .dataframe tbody tr th:only-of-type {\n",
       "        vertical-align: middle;\n",
       "    }\n",
       "\n",
       "    .dataframe tbody tr th {\n",
       "        vertical-align: top;\n",
       "    }\n",
       "\n",
       "    .dataframe thead th {\n",
       "        text-align: right;\n",
       "    }\n",
       "</style>\n",
       "<table border=\"1\" class=\"dataframe\">\n",
       "  <thead>\n",
       "    <tr style=\"text-align: right;\">\n",
       "      <th></th>\n",
       "      <th>Студент</th>\n",
       "      <th>Codeforces логин</th>\n",
       "      <th>2024-04-06 00:00:00</th>\n",
       "      <th>2024-04-13 00:00:00</th>\n",
       "      <th>2024-04-18 00:00:00</th>\n",
       "      <th>2024-04-27 00:00:00</th>\n",
       "      <th>2024-05-11 00:00:00</th>\n",
       "      <th>2024-05-18 00:00:00</th>\n",
       "      <th>2024-05-25 00:00:00</th>\n",
       "      <th>2024-06-01 00:00:00</th>\n",
       "      <th>...</th>\n",
       "      <th>Бонус ДЗ</th>\n",
       "      <th>Сумма ДЗ</th>\n",
       "      <th>КР 1</th>\n",
       "      <th>Коллоквиум</th>\n",
       "      <th>Сумма КР</th>\n",
       "      <th>Бонусы</th>\n",
       "      <th>Результат для автомата</th>\n",
       "      <th>Экзамен</th>\n",
       "      <th>Результат</th>\n",
       "      <th>Итоговая оценка</th>\n",
       "    </tr>\n",
       "  </thead>\n",
       "  <tbody>\n",
       "    <tr>\n",
       "      <th>0</th>\n",
       "      <td>Андреева Анастасия</td>\n",
       "      <td>Anvvq</td>\n",
       "      <td>0.0</td>\n",
       "      <td>0.0</td>\n",
       "      <td>0.0</td>\n",
       "      <td>0.0</td>\n",
       "      <td>0.0</td>\n",
       "      <td>0.0</td>\n",
       "      <td>0.0</td>\n",
       "      <td>0.0</td>\n",
       "      <td>...</td>\n",
       "      <td>0.0</td>\n",
       "      <td>0.0000</td>\n",
       "      <td>0.0</td>\n",
       "      <td>0.0</td>\n",
       "      <td>0.00</td>\n",
       "      <td>0.0</td>\n",
       "      <td>0.000000</td>\n",
       "      <td>0.0</td>\n",
       "      <td>0.000000</td>\n",
       "      <td>0.000000</td>\n",
       "    </tr>\n",
       "    <tr>\n",
       "      <th>1</th>\n",
       "      <td>Андреянова Софья</td>\n",
       "      <td>ssonyii</td>\n",
       "      <td>3.0</td>\n",
       "      <td>1.0</td>\n",
       "      <td>3.0</td>\n",
       "      <td>1.0</td>\n",
       "      <td>1.0</td>\n",
       "      <td>1.0</td>\n",
       "      <td>3.0</td>\n",
       "      <td>2.0</td>\n",
       "      <td>...</td>\n",
       "      <td>0.0</td>\n",
       "      <td>7.6500</td>\n",
       "      <td>10.0</td>\n",
       "      <td>10.0</td>\n",
       "      <td>10.00</td>\n",
       "      <td>10.0</td>\n",
       "      <td>9.275466</td>\n",
       "      <td>8.0</td>\n",
       "      <td>9.042826</td>\n",
       "      <td>9.042826</td>\n",
       "    </tr>\n",
       "    <tr>\n",
       "      <th>2</th>\n",
       "      <td>Ахряпина Мария</td>\n",
       "      <td>MashaAkhr</td>\n",
       "      <td>3.5</td>\n",
       "      <td>2.5</td>\n",
       "      <td>2.0</td>\n",
       "      <td>1.0</td>\n",
       "      <td>2.0</td>\n",
       "      <td>1.5</td>\n",
       "      <td>2.0</td>\n",
       "      <td>1.0</td>\n",
       "      <td>...</td>\n",
       "      <td>0.0</td>\n",
       "      <td>8.7250</td>\n",
       "      <td>6.0</td>\n",
       "      <td>8.5</td>\n",
       "      <td>7.25</td>\n",
       "      <td>0.0</td>\n",
       "      <td>8.026553</td>\n",
       "      <td>0.0</td>\n",
       "      <td>5.618587</td>\n",
       "      <td>8.000000</td>\n",
       "    </tr>\n",
       "    <tr>\n",
       "      <th>3</th>\n",
       "      <td>Бельченко Алиса</td>\n",
       "      <td>Belloid</td>\n",
       "      <td>0.0</td>\n",
       "      <td>0.0</td>\n",
       "      <td>0.0</td>\n",
       "      <td>0.0</td>\n",
       "      <td>0.0</td>\n",
       "      <td>0.0</td>\n",
       "      <td>0.0</td>\n",
       "      <td>0.0</td>\n",
       "      <td>...</td>\n",
       "      <td>1.0</td>\n",
       "      <td>9.8750</td>\n",
       "      <td>10.0</td>\n",
       "      <td>9.0</td>\n",
       "      <td>9.50</td>\n",
       "      <td>0.0</td>\n",
       "      <td>8.303571</td>\n",
       "      <td>8.0</td>\n",
       "      <td>8.212500</td>\n",
       "      <td>8.212500</td>\n",
       "    </tr>\n",
       "    <tr>\n",
       "      <th>4</th>\n",
       "      <td>Белявская Виктория</td>\n",
       "      <td>vssukhova</td>\n",
       "      <td>4.0</td>\n",
       "      <td>1.0</td>\n",
       "      <td>4.0</td>\n",
       "      <td>2.0</td>\n",
       "      <td>2.0</td>\n",
       "      <td>2.0</td>\n",
       "      <td>2.5</td>\n",
       "      <td>2.5</td>\n",
       "      <td>...</td>\n",
       "      <td>0.0</td>\n",
       "      <td>7.5875</td>\n",
       "      <td>8.0</td>\n",
       "      <td>10.0</td>\n",
       "      <td>9.00</td>\n",
       "      <td>10.0</td>\n",
       "      <td>9.006444</td>\n",
       "      <td>0.0</td>\n",
       "      <td>6.454511</td>\n",
       "      <td>8.000000</td>\n",
       "    </tr>\n",
       "  </tbody>\n",
       "</table>\n",
       "<p>5 rows × 34 columns</p>\n",
       "</div>"
      ],
      "text/plain": [
       "               Студент Codeforces логин  2024-04-06 00:00:00  \\\n",
       "0   Андреева Анастасия            Anvvq                  0.0   \n",
       "1     Андреянова Софья          ssonyii                  3.0   \n",
       "2       Ахряпина Мария        MashaAkhr                  3.5   \n",
       "3      Бельченко Алиса          Belloid                  0.0   \n",
       "4  Белявская Виктория         vssukhova                  4.0   \n",
       "\n",
       "   2024-04-13 00:00:00  2024-04-18 00:00:00  2024-04-27 00:00:00  \\\n",
       "0                  0.0                  0.0                  0.0   \n",
       "1                  1.0                  3.0                  1.0   \n",
       "2                  2.5                  2.0                  1.0   \n",
       "3                  0.0                  0.0                  0.0   \n",
       "4                  1.0                  4.0                  2.0   \n",
       "\n",
       "   2024-05-11 00:00:00  2024-05-18 00:00:00  2024-05-25 00:00:00  \\\n",
       "0                  0.0                  0.0                  0.0   \n",
       "1                  1.0                  1.0                  3.0   \n",
       "2                  2.0                  1.5                  2.0   \n",
       "3                  0.0                  0.0                  0.0   \n",
       "4                  2.0                  2.0                  2.5   \n",
       "\n",
       "   2024-06-01 00:00:00  ...  Бонус ДЗ  Сумма ДЗ  КР 1  Коллоквиум  Сумма КР  \\\n",
       "0                  0.0  ...       0.0    0.0000   0.0         0.0      0.00   \n",
       "1                  2.0  ...       0.0    7.6500  10.0        10.0     10.00   \n",
       "2                  1.0  ...       0.0    8.7250   6.0         8.5      7.25   \n",
       "3                  0.0  ...       1.0    9.8750  10.0         9.0      9.50   \n",
       "4                  2.5  ...       0.0    7.5875   8.0        10.0      9.00   \n",
       "\n",
       "   Бонусы  Результат для автомата  Экзамен  Результат  Итоговая оценка  \n",
       "0     0.0                0.000000      0.0   0.000000         0.000000  \n",
       "1    10.0                9.275466      8.0   9.042826         9.042826  \n",
       "2     0.0                8.026553      0.0   5.618587         8.000000  \n",
       "3     0.0                8.303571      8.0   8.212500         8.212500  \n",
       "4    10.0                9.006444      0.0   6.454511         8.000000  \n",
       "\n",
       "[5 rows x 34 columns]"
      ]
     },
     "execution_count": 161,
     "metadata": {},
     "output_type": "execute_result"
    }
   ],
   "source": [
    "df.head(5)"
   ]
  },
  {
   "cell_type": "code",
   "execution_count": 162,
   "metadata": {},
   "outputs": [
    {
     "data": {
      "text/html": [
       "<div>\n",
       "<style scoped>\n",
       "    .dataframe tbody tr th:only-of-type {\n",
       "        vertical-align: middle;\n",
       "    }\n",
       "\n",
       "    .dataframe tbody tr th {\n",
       "        vertical-align: top;\n",
       "    }\n",
       "\n",
       "    .dataframe thead th {\n",
       "        text-align: right;\n",
       "    }\n",
       "</style>\n",
       "<table border=\"1\" class=\"dataframe\">\n",
       "  <thead>\n",
       "    <tr style=\"text-align: right;\">\n",
       "      <th></th>\n",
       "      <th>Студент</th>\n",
       "      <th>Codeforces логин</th>\n",
       "      <th>2024-04-06 00:00:00</th>\n",
       "      <th>2024-04-13 00:00:00</th>\n",
       "      <th>2024-04-18 00:00:00</th>\n",
       "      <th>2024-04-27 00:00:00</th>\n",
       "      <th>2024-05-11 00:00:00</th>\n",
       "      <th>2024-05-18 00:00:00</th>\n",
       "      <th>2024-05-25 00:00:00</th>\n",
       "      <th>2024-06-01 00:00:00</th>\n",
       "      <th>...</th>\n",
       "      <th>Бонус ДЗ</th>\n",
       "      <th>Сумма ДЗ</th>\n",
       "      <th>КР 1</th>\n",
       "      <th>Коллоквиум</th>\n",
       "      <th>Сумма КР</th>\n",
       "      <th>Бонусы</th>\n",
       "      <th>Результат для автомата</th>\n",
       "      <th>Экзамен</th>\n",
       "      <th>Результат</th>\n",
       "      <th>Итоговая оценка</th>\n",
       "    </tr>\n",
       "  </thead>\n",
       "  <tbody>\n",
       "    <tr>\n",
       "      <th>5</th>\n",
       "      <td>Борисенко Семён</td>\n",
       "      <td>vaccinechippedby5g</td>\n",
       "      <td>4.5</td>\n",
       "      <td>2.0</td>\n",
       "      <td>4.0</td>\n",
       "      <td>2.0</td>\n",
       "      <td>2.0</td>\n",
       "      <td>2.0</td>\n",
       "      <td>2.0</td>\n",
       "      <td>3.5</td>\n",
       "      <td>...</td>\n",
       "      <td>0.0</td>\n",
       "      <td>8.3500</td>\n",
       "      <td>6.0</td>\n",
       "      <td>8.0</td>\n",
       "      <td>7.00</td>\n",
       "      <td>10.0</td>\n",
       "      <td>8.507143</td>\n",
       "      <td>0.0</td>\n",
       "      <td>6.105000</td>\n",
       "      <td>8.507143</td>\n",
       "    </tr>\n",
       "    <tr>\n",
       "      <th>0</th>\n",
       "      <td>Андреева Анастасия</td>\n",
       "      <td>Anvvq</td>\n",
       "      <td>0.0</td>\n",
       "      <td>0.0</td>\n",
       "      <td>0.0</td>\n",
       "      <td>0.0</td>\n",
       "      <td>0.0</td>\n",
       "      <td>0.0</td>\n",
       "      <td>0.0</td>\n",
       "      <td>0.0</td>\n",
       "      <td>...</td>\n",
       "      <td>0.0</td>\n",
       "      <td>0.0000</td>\n",
       "      <td>0.0</td>\n",
       "      <td>0.0</td>\n",
       "      <td>0.00</td>\n",
       "      <td>0.0</td>\n",
       "      <td>0.000000</td>\n",
       "      <td>0.0</td>\n",
       "      <td>0.000000</td>\n",
       "      <td>0.000000</td>\n",
       "    </tr>\n",
       "    <tr>\n",
       "      <th>21</th>\n",
       "      <td>Михайлова Лиана</td>\n",
       "      <td>neplachuu</td>\n",
       "      <td>1.5</td>\n",
       "      <td>2.0</td>\n",
       "      <td>1.0</td>\n",
       "      <td>0.0</td>\n",
       "      <td>0.0</td>\n",
       "      <td>1.0</td>\n",
       "      <td>1.5</td>\n",
       "      <td>0.0</td>\n",
       "      <td>...</td>\n",
       "      <td>0.0</td>\n",
       "      <td>7.6500</td>\n",
       "      <td>6.0</td>\n",
       "      <td>8.5</td>\n",
       "      <td>7.25</td>\n",
       "      <td>0.0</td>\n",
       "      <td>6.820497</td>\n",
       "      <td>8.0</td>\n",
       "      <td>7.174348</td>\n",
       "      <td>7.174348</td>\n",
       "    </tr>\n",
       "    <tr>\n",
       "      <th>32</th>\n",
       "      <td>Тимерханов Артём</td>\n",
       "      <td>TTJC</td>\n",
       "      <td>0.0</td>\n",
       "      <td>0.0</td>\n",
       "      <td>1.0</td>\n",
       "      <td>0.0</td>\n",
       "      <td>0.0</td>\n",
       "      <td>1.5</td>\n",
       "      <td>3.0</td>\n",
       "      <td>3.0</td>\n",
       "      <td>...</td>\n",
       "      <td>0.0</td>\n",
       "      <td>7.1375</td>\n",
       "      <td>8.0</td>\n",
       "      <td>7.0</td>\n",
       "      <td>7.50</td>\n",
       "      <td>0.0</td>\n",
       "      <td>6.987500</td>\n",
       "      <td>6.0</td>\n",
       "      <td>6.691250</td>\n",
       "      <td>6.691250</td>\n",
       "    </tr>\n",
       "    <tr>\n",
       "      <th>9</th>\n",
       "      <td>Дудкина Полина</td>\n",
       "      <td>polinadudkina</td>\n",
       "      <td>2.5</td>\n",
       "      <td>1.0</td>\n",
       "      <td>2.0</td>\n",
       "      <td>2.0</td>\n",
       "      <td>1.0</td>\n",
       "      <td>1.0</td>\n",
       "      <td>2.5</td>\n",
       "      <td>2.0</td>\n",
       "      <td>...</td>\n",
       "      <td>0.0</td>\n",
       "      <td>8.2500</td>\n",
       "      <td>4.0</td>\n",
       "      <td>9.0</td>\n",
       "      <td>6.50</td>\n",
       "      <td>10.0</td>\n",
       "      <td>8.001553</td>\n",
       "      <td>0.0</td>\n",
       "      <td>5.751087</td>\n",
       "      <td>8.000000</td>\n",
       "    </tr>\n",
       "  </tbody>\n",
       "</table>\n",
       "<p>5 rows × 34 columns</p>\n",
       "</div>"
      ],
      "text/plain": [
       "               Студент    Codeforces логин  2024-04-06 00:00:00  \\\n",
       "5      Борисенко Семён  vaccinechippedby5g                  4.5   \n",
       "0   Андреева Анастасия               Anvvq                  0.0   \n",
       "21     Михайлова Лиана           neplachuu                  1.5   \n",
       "32    Тимерханов Артём                TTJC                  0.0   \n",
       "9       Дудкина Полина       polinadudkina                  2.5   \n",
       "\n",
       "    2024-04-13 00:00:00  2024-04-18 00:00:00  2024-04-27 00:00:00  \\\n",
       "5                   2.0                  4.0                  2.0   \n",
       "0                   0.0                  0.0                  0.0   \n",
       "21                  2.0                  1.0                  0.0   \n",
       "32                  0.0                  1.0                  0.0   \n",
       "9                   1.0                  2.0                  2.0   \n",
       "\n",
       "    2024-05-11 00:00:00  2024-05-18 00:00:00  2024-05-25 00:00:00  \\\n",
       "5                   2.0                  2.0                  2.0   \n",
       "0                   0.0                  0.0                  0.0   \n",
       "21                  0.0                  1.0                  1.5   \n",
       "32                  0.0                  1.5                  3.0   \n",
       "9                   1.0                  1.0                  2.5   \n",
       "\n",
       "    2024-06-01 00:00:00  ...  Бонус ДЗ  Сумма ДЗ  КР 1  Коллоквиум  Сумма КР  \\\n",
       "5                   3.5  ...       0.0    8.3500   6.0         8.0      7.00   \n",
       "0                   0.0  ...       0.0    0.0000   0.0         0.0      0.00   \n",
       "21                  0.0  ...       0.0    7.6500   6.0         8.5      7.25   \n",
       "32                  3.0  ...       0.0    7.1375   8.0         7.0      7.50   \n",
       "9                   2.0  ...       0.0    8.2500   4.0         9.0      6.50   \n",
       "\n",
       "    Бонусы  Результат для автомата  Экзамен  Результат  Итоговая оценка  \n",
       "5     10.0                8.507143      0.0   6.105000         8.507143  \n",
       "0      0.0                0.000000      0.0   0.000000         0.000000  \n",
       "21     0.0                6.820497      8.0   7.174348         7.174348  \n",
       "32     0.0                6.987500      6.0   6.691250         6.691250  \n",
       "9     10.0                8.001553      0.0   5.751087         8.000000  \n",
       "\n",
       "[5 rows x 34 columns]"
      ]
     },
     "execution_count": 162,
     "metadata": {},
     "output_type": "execute_result"
    }
   ],
   "source": [
    "df.sample(5)"
   ]
  },
  {
   "cell_type": "markdown",
   "metadata": {},
   "source": [
    "DataFrame, по сути, является двумерной таблицей с набором полезных методов. Давайте рассмотрим некоторые из них.\n",
    "\n",
    "```columns``` — возвращает названия колонок\n",
    "\n",
    "```dtypes``` — типы колонок"
   ]
  },
  {
   "cell_type": "code",
   "execution_count": 163,
   "metadata": {},
   "outputs": [
    {
     "data": {
      "text/plain": [
       "Index([               'Студент',       'Codeforces логин',\n",
       "            2024-04-06 00:00:00,      2024-04-13 00:00:00,\n",
       "            2024-04-18 00:00:00,      2024-04-27 00:00:00,\n",
       "            2024-05-11 00:00:00,      2024-05-18 00:00:00,\n",
       "            2024-05-25 00:00:00,      2024-06-01 00:00:00,\n",
       "            2024-06-08 00:00:00,      2024-06-15 00:00:00,\n",
       "               'Сумма семинары',                   'ДЗ 1',\n",
       "                         'ДЗ 2',                   'ДЗ 3',\n",
       "                         'ДЗ 4',                   'ДЗ 5',\n",
       "                         'ДЗ 6',                   'ДЗ 7',\n",
       "                         'ДЗ 8',                   'ДЗ 9',\n",
       "                        'ДЗ 10',                  'ДЗ 11',\n",
       "                     'Бонус ДЗ',               'Сумма ДЗ',\n",
       "                         'КР 1',             'Коллоквиум',\n",
       "                     'Сумма КР',                 'Бонусы',\n",
       "       'Результат для автомата',                'Экзамен',\n",
       "                    'Результат',        'Итоговая оценка'],\n",
       "      dtype='object')"
      ]
     },
     "execution_count": 163,
     "metadata": {},
     "output_type": "execute_result"
    }
   ],
   "source": [
    "df.columns"
   ]
  },
  {
   "cell_type": "code",
   "execution_count": 164,
   "metadata": {},
   "outputs": [
    {
     "data": {
      "text/plain": [
       "Студент                    object\n",
       "Codeforces логин           object\n",
       "2024-04-06 00:00:00       float64\n",
       "2024-04-13 00:00:00       float64\n",
       "2024-04-18 00:00:00       float64\n",
       "2024-04-27 00:00:00       float64\n",
       "2024-05-11 00:00:00       float64\n",
       "2024-05-18 00:00:00       float64\n",
       "2024-05-25 00:00:00       float64\n",
       "2024-06-01 00:00:00       float64\n",
       "2024-06-08 00:00:00       float64\n",
       "2024-06-15 00:00:00       float64\n",
       "Сумма семинары            float64\n",
       "ДЗ 1                      float64\n",
       "ДЗ 2                      float64\n",
       "ДЗ 3                      float64\n",
       "ДЗ 4                      float64\n",
       "ДЗ 5                      float64\n",
       "ДЗ 6                      float64\n",
       "ДЗ 7                      float64\n",
       "ДЗ 8                      float64\n",
       "ДЗ 9                      float64\n",
       "ДЗ 10                     float64\n",
       "ДЗ 11                     float64\n",
       "Бонус ДЗ                  float64\n",
       "Сумма ДЗ                  float64\n",
       "КР 1                      float64\n",
       "Коллоквиум                float64\n",
       "Сумма КР                  float64\n",
       "Бонусы                    float64\n",
       "Результат для автомата    float64\n",
       "Экзамен                   float64\n",
       "Результат                 float64\n",
       "Итоговая оценка           float64\n",
       "dtype: object"
      ]
     },
     "execution_count": 164,
     "metadata": {},
     "output_type": "execute_result"
    }
   ],
   "source": [
    "df.dtypes"
   ]
  },
  {
   "cell_type": "markdown",
   "metadata": {},
   "source": [
    "В DataFrame есть несколько способов для обращения к строкам, столбцам и отдельным элементам таблицы: квадратные скобки и методы ```loc```, ```iloc```.\n",
    "\n",
    "Как обычно, лучший источник знаний об этом — [документация](https://pandas.pydata.org/docs/user_guide/indexing.html).\n",
    "Ниже краткое содержание."
   ]
  },
  {
   "cell_type": "markdown",
   "metadata": {},
   "source": [
    "В метод ```loc``` можно передать значение индекса (число, которое стоит в колонке index) строки, чтобы получить эту строку:"
   ]
  },
  {
   "cell_type": "code",
   "execution_count": 165,
   "metadata": {},
   "outputs": [
    {
     "data": {
      "text/plain": [
       "Студент                   Никонов Владимир\n",
       "Codeforces логин                    Yasher\n",
       "2024-04-06 00:00:00                    5.0\n",
       "2024-04-13 00:00:00                    1.0\n",
       "2024-04-18 00:00:00                    3.0\n",
       "2024-04-27 00:00:00                    3.0\n",
       "2024-05-11 00:00:00                    3.0\n",
       "2024-05-18 00:00:00                    3.0\n",
       "2024-05-25 00:00:00                    3.0\n",
       "2024-06-01 00:00:00                    5.0\n",
       "2024-06-08 00:00:00                    NaN\n",
       "2024-06-15 00:00:00                    5.5\n",
       "Сумма семинары                        10.0\n",
       "ДЗ 1                                   8.0\n",
       "ДЗ 2                                   4.0\n",
       "ДЗ 3                                   8.0\n",
       "ДЗ 4                                   8.0\n",
       "ДЗ 5                                   5.0\n",
       "ДЗ 6                                   8.0\n",
       "ДЗ 7                                   5.0\n",
       "ДЗ 8                                   8.0\n",
       "ДЗ 9                                   3.0\n",
       "ДЗ 10                                  2.0\n",
       "ДЗ 11                                  7.0\n",
       "Бонус ДЗ                               0.0\n",
       "Сумма ДЗ                               8.9\n",
       "КР 1                                  10.0\n",
       "Коллоквиум                            10.0\n",
       "Сумма КР                              10.0\n",
       "Бонусы                                10.0\n",
       "Результат для автомата                10.0\n",
       "Экзамен                                0.0\n",
       "Результат                             7.17\n",
       "Итоговая оценка                       10.0\n",
       "Name: 23, dtype: object"
      ]
     },
     "execution_count": 165,
     "metadata": {},
     "output_type": "execute_result"
    }
   ],
   "source": [
    "df.loc[23]"
   ]
  },
  {
   "cell_type": "markdown",
   "metadata": {},
   "source": [
    "С помощью ```iloc``` тоже можно делать срезы, но в них последний элемент не включается (как и в обычных срезах в Python, **в отличие от loc**):"
   ]
  },
  {
   "cell_type": "code",
   "execution_count": 166,
   "metadata": {},
   "outputs": [
    {
     "data": {
      "text/html": [
       "<div>\n",
       "<style scoped>\n",
       "    .dataframe tbody tr th:only-of-type {\n",
       "        vertical-align: middle;\n",
       "    }\n",
       "\n",
       "    .dataframe tbody tr th {\n",
       "        vertical-align: top;\n",
       "    }\n",
       "\n",
       "    .dataframe thead th {\n",
       "        text-align: right;\n",
       "    }\n",
       "</style>\n",
       "<table border=\"1\" class=\"dataframe\">\n",
       "  <thead>\n",
       "    <tr style=\"text-align: right;\">\n",
       "      <th></th>\n",
       "      <th>Студент</th>\n",
       "      <th>Codeforces логин</th>\n",
       "      <th>2024-04-06 00:00:00</th>\n",
       "      <th>2024-04-13 00:00:00</th>\n",
       "      <th>2024-04-18 00:00:00</th>\n",
       "      <th>2024-04-27 00:00:00</th>\n",
       "      <th>2024-05-11 00:00:00</th>\n",
       "      <th>2024-05-18 00:00:00</th>\n",
       "      <th>2024-05-25 00:00:00</th>\n",
       "      <th>2024-06-01 00:00:00</th>\n",
       "      <th>...</th>\n",
       "      <th>Бонус ДЗ</th>\n",
       "      <th>Сумма ДЗ</th>\n",
       "      <th>КР 1</th>\n",
       "      <th>Коллоквиум</th>\n",
       "      <th>Сумма КР</th>\n",
       "      <th>Бонусы</th>\n",
       "      <th>Результат для автомата</th>\n",
       "      <th>Экзамен</th>\n",
       "      <th>Результат</th>\n",
       "      <th>Итоговая оценка</th>\n",
       "    </tr>\n",
       "  </thead>\n",
       "  <tbody>\n",
       "    <tr>\n",
       "      <th>4</th>\n",
       "      <td>Белявская Виктория</td>\n",
       "      <td>vssukhova</td>\n",
       "      <td>4.0</td>\n",
       "      <td>1.0</td>\n",
       "      <td>4.0</td>\n",
       "      <td>2.0</td>\n",
       "      <td>2.0</td>\n",
       "      <td>2.0</td>\n",
       "      <td>2.5</td>\n",
       "      <td>2.5</td>\n",
       "      <td>...</td>\n",
       "      <td>0.0</td>\n",
       "      <td>7.5875</td>\n",
       "      <td>8.0</td>\n",
       "      <td>10.0</td>\n",
       "      <td>9.0</td>\n",
       "      <td>10.0</td>\n",
       "      <td>9.006444</td>\n",
       "      <td>0.0</td>\n",
       "      <td>6.454511</td>\n",
       "      <td>8.000000</td>\n",
       "    </tr>\n",
       "    <tr>\n",
       "      <th>5</th>\n",
       "      <td>Борисенко Семён</td>\n",
       "      <td>vaccinechippedby5g</td>\n",
       "      <td>4.5</td>\n",
       "      <td>2.0</td>\n",
       "      <td>4.0</td>\n",
       "      <td>2.0</td>\n",
       "      <td>2.0</td>\n",
       "      <td>2.0</td>\n",
       "      <td>2.0</td>\n",
       "      <td>3.5</td>\n",
       "      <td>...</td>\n",
       "      <td>0.0</td>\n",
       "      <td>8.3500</td>\n",
       "      <td>6.0</td>\n",
       "      <td>8.0</td>\n",
       "      <td>7.0</td>\n",
       "      <td>10.0</td>\n",
       "      <td>8.507143</td>\n",
       "      <td>0.0</td>\n",
       "      <td>6.105000</td>\n",
       "      <td>8.507143</td>\n",
       "    </tr>\n",
       "  </tbody>\n",
       "</table>\n",
       "<p>2 rows × 34 columns</p>\n",
       "</div>"
      ],
      "text/plain": [
       "               Студент    Codeforces логин  2024-04-06 00:00:00  \\\n",
       "4  Белявская Виктория            vssukhova                  4.0   \n",
       "5      Борисенко Семён  vaccinechippedby5g                  4.5   \n",
       "\n",
       "   2024-04-13 00:00:00  2024-04-18 00:00:00  2024-04-27 00:00:00  \\\n",
       "4                  1.0                  4.0                  2.0   \n",
       "5                  2.0                  4.0                  2.0   \n",
       "\n",
       "   2024-05-11 00:00:00  2024-05-18 00:00:00  2024-05-25 00:00:00  \\\n",
       "4                  2.0                  2.0                  2.5   \n",
       "5                  2.0                  2.0                  2.0   \n",
       "\n",
       "   2024-06-01 00:00:00  ...  Бонус ДЗ  Сумма ДЗ  КР 1  Коллоквиум  Сумма КР  \\\n",
       "4                  2.5  ...       0.0    7.5875   8.0        10.0       9.0   \n",
       "5                  3.5  ...       0.0    8.3500   6.0         8.0       7.0   \n",
       "\n",
       "   Бонусы  Результат для автомата  Экзамен  Результат  Итоговая оценка  \n",
       "4    10.0                9.006444      0.0   6.454511         8.000000  \n",
       "5    10.0                8.507143      0.0   6.105000         8.507143  \n",
       "\n",
       "[2 rows x 34 columns]"
      ]
     },
     "execution_count": 166,
     "metadata": {},
     "output_type": "execute_result"
    }
   ],
   "source": [
    "df.iloc[4:6]"
   ]
  },
  {
   "cell_type": "markdown",
   "metadata": {},
   "source": [
    "Через квадратные скобки можно обращаться к одной или нескольким колонкам:"
   ]
  },
  {
   "cell_type": "code",
   "execution_count": 167,
   "metadata": {},
   "outputs": [
    {
     "data": {
      "text/html": [
       "<div>\n",
       "<style scoped>\n",
       "    .dataframe tbody tr th:only-of-type {\n",
       "        vertical-align: middle;\n",
       "    }\n",
       "\n",
       "    .dataframe tbody tr th {\n",
       "        vertical-align: top;\n",
       "    }\n",
       "\n",
       "    .dataframe thead th {\n",
       "        text-align: right;\n",
       "    }\n",
       "</style>\n",
       "<table border=\"1\" class=\"dataframe\">\n",
       "  <thead>\n",
       "    <tr style=\"text-align: right;\">\n",
       "      <th></th>\n",
       "      <th>Студент</th>\n",
       "      <th>Результат</th>\n",
       "    </tr>\n",
       "  </thead>\n",
       "  <tbody>\n",
       "    <tr>\n",
       "      <th>33</th>\n",
       "      <td>Титов Алексей</td>\n",
       "      <td>3.719130</td>\n",
       "    </tr>\n",
       "    <tr>\n",
       "      <th>22</th>\n",
       "      <td>Нестерская Мария</td>\n",
       "      <td>5.966304</td>\n",
       "    </tr>\n",
       "    <tr>\n",
       "      <th>1</th>\n",
       "      <td>Андреянова Софья</td>\n",
       "      <td>9.042826</td>\n",
       "    </tr>\n",
       "  </tbody>\n",
       "</table>\n",
       "</div>"
      ],
      "text/plain": [
       "             Студент  Результат\n",
       "33     Титов Алексей   3.719130\n",
       "22  Нестерская Мария   5.966304\n",
       "1   Андреянова Софья   9.042826"
      ]
     },
     "execution_count": 167,
     "metadata": {},
     "output_type": "execute_result"
    }
   ],
   "source": [
    "df[['Студент', 'Результат']].sample(3)"
   ]
  },
  {
   "cell_type": "markdown",
   "metadata": {},
   "source": [
    "Есть более элегатные способы фильтрации датафрейма: "
   ]
  },
  {
   "cell_type": "code",
   "execution_count": 168,
   "metadata": {},
   "outputs": [
    {
     "data": {
      "text/html": [
       "<div>\n",
       "<style scoped>\n",
       "    .dataframe tbody tr th:only-of-type {\n",
       "        vertical-align: middle;\n",
       "    }\n",
       "\n",
       "    .dataframe tbody tr th {\n",
       "        vertical-align: top;\n",
       "    }\n",
       "\n",
       "    .dataframe thead th {\n",
       "        text-align: right;\n",
       "    }\n",
       "</style>\n",
       "<table border=\"1\" class=\"dataframe\">\n",
       "  <thead>\n",
       "    <tr style=\"text-align: right;\">\n",
       "      <th></th>\n",
       "      <th>Студент</th>\n",
       "      <th>Codeforces логин</th>\n",
       "      <th>2024-04-06 00:00:00</th>\n",
       "      <th>2024-04-13 00:00:00</th>\n",
       "      <th>2024-04-18 00:00:00</th>\n",
       "      <th>2024-04-27 00:00:00</th>\n",
       "      <th>2024-05-11 00:00:00</th>\n",
       "      <th>2024-05-18 00:00:00</th>\n",
       "      <th>2024-05-25 00:00:00</th>\n",
       "      <th>2024-06-01 00:00:00</th>\n",
       "      <th>...</th>\n",
       "      <th>Бонус ДЗ</th>\n",
       "      <th>Сумма ДЗ</th>\n",
       "      <th>КР 1</th>\n",
       "      <th>Коллоквиум</th>\n",
       "      <th>Сумма КР</th>\n",
       "      <th>Бонусы</th>\n",
       "      <th>Результат для автомата</th>\n",
       "      <th>Экзамен</th>\n",
       "      <th>Результат</th>\n",
       "      <th>Итоговая оценка</th>\n",
       "    </tr>\n",
       "  </thead>\n",
       "  <tbody>\n",
       "    <tr>\n",
       "      <th>20</th>\n",
       "      <td>Масленникова Мария</td>\n",
       "      <td>MariiaMaslennikova</td>\n",
       "      <td>3.5</td>\n",
       "      <td>5.5</td>\n",
       "      <td>2.0</td>\n",
       "      <td>3.0</td>\n",
       "      <td>4.0</td>\n",
       "      <td>2.5</td>\n",
       "      <td>2.5</td>\n",
       "      <td>3.0</td>\n",
       "      <td>...</td>\n",
       "      <td>1.0</td>\n",
       "      <td>9.75</td>\n",
       "      <td>8.0</td>\n",
       "      <td>10.0</td>\n",
       "      <td>9.0</td>\n",
       "      <td>10.0</td>\n",
       "      <td>9.964286</td>\n",
       "      <td>10.0</td>\n",
       "      <td>10.00</td>\n",
       "      <td>10.0</td>\n",
       "    </tr>\n",
       "    <tr>\n",
       "      <th>23</th>\n",
       "      <td>Никонов Владимир</td>\n",
       "      <td>Yasher</td>\n",
       "      <td>5.0</td>\n",
       "      <td>1.0</td>\n",
       "      <td>3.0</td>\n",
       "      <td>3.0</td>\n",
       "      <td>3.0</td>\n",
       "      <td>3.0</td>\n",
       "      <td>3.0</td>\n",
       "      <td>5.0</td>\n",
       "      <td>...</td>\n",
       "      <td>0.0</td>\n",
       "      <td>8.90</td>\n",
       "      <td>10.0</td>\n",
       "      <td>10.0</td>\n",
       "      <td>10.0</td>\n",
       "      <td>10.0</td>\n",
       "      <td>10.000000</td>\n",
       "      <td>0.0</td>\n",
       "      <td>7.17</td>\n",
       "      <td>10.0</td>\n",
       "    </tr>\n",
       "    <tr>\n",
       "      <th>24</th>\n",
       "      <td>Павлухин Сергей</td>\n",
       "      <td>karatel_rai</td>\n",
       "      <td>5.5</td>\n",
       "      <td>2.5</td>\n",
       "      <td>3.5</td>\n",
       "      <td>2.0</td>\n",
       "      <td>3.5</td>\n",
       "      <td>2.5</td>\n",
       "      <td>4.0</td>\n",
       "      <td>5.0</td>\n",
       "      <td>...</td>\n",
       "      <td>0.0</td>\n",
       "      <td>10.00</td>\n",
       "      <td>10.0</td>\n",
       "      <td>10.0</td>\n",
       "      <td>10.0</td>\n",
       "      <td>10.0</td>\n",
       "      <td>10.000000</td>\n",
       "      <td>8.0</td>\n",
       "      <td>9.90</td>\n",
       "      <td>9.9</td>\n",
       "    </tr>\n",
       "  </tbody>\n",
       "</table>\n",
       "<p>3 rows × 34 columns</p>\n",
       "</div>"
      ],
      "text/plain": [
       "               Студент    Codeforces логин  2024-04-06 00:00:00  \\\n",
       "20  Масленникова Мария  MariiaMaslennikova                  3.5   \n",
       "23    Никонов Владимир              Yasher                  5.0   \n",
       "24     Павлухин Сергей         karatel_rai                  5.5   \n",
       "\n",
       "    2024-04-13 00:00:00  2024-04-18 00:00:00  2024-04-27 00:00:00  \\\n",
       "20                  5.5                  2.0                  3.0   \n",
       "23                  1.0                  3.0                  3.0   \n",
       "24                  2.5                  3.5                  2.0   \n",
       "\n",
       "    2024-05-11 00:00:00  2024-05-18 00:00:00  2024-05-25 00:00:00  \\\n",
       "20                  4.0                  2.5                  2.5   \n",
       "23                  3.0                  3.0                  3.0   \n",
       "24                  3.5                  2.5                  4.0   \n",
       "\n",
       "    2024-06-01 00:00:00  ...  Бонус ДЗ  Сумма ДЗ  КР 1  Коллоквиум  Сумма КР  \\\n",
       "20                  3.0  ...       1.0      9.75   8.0        10.0       9.0   \n",
       "23                  5.0  ...       0.0      8.90  10.0        10.0      10.0   \n",
       "24                  5.0  ...       0.0     10.00  10.0        10.0      10.0   \n",
       "\n",
       "    Бонусы  Результат для автомата  Экзамен  Результат  Итоговая оценка  \n",
       "20    10.0                9.964286     10.0      10.00             10.0  \n",
       "23    10.0               10.000000      0.0       7.17             10.0  \n",
       "24    10.0               10.000000      8.0       9.90              9.9  \n",
       "\n",
       "[3 rows x 34 columns]"
      ]
     },
     "execution_count": 168,
     "metadata": {},
     "output_type": "execute_result"
    }
   ],
   "source": [
    "df[df['Итоговая оценка'] >= 9.5]"
   ]
  },
  {
   "cell_type": "markdown",
   "metadata": {},
   "source": [
    "Также мы можем с помощью apply применять lamda функции к колонкам, имеет смысл обращать внимание на dtype."
   ]
  },
  {
   "cell_type": "code",
   "execution_count": 169,
   "metadata": {},
   "outputs": [
    {
     "data": {
      "text/plain": [
       "28     7.890000\n",
       "10    14.215761\n",
       "14    16.000000\n",
       "12    11.331739\n",
       "24    19.800000\n",
       "Name: Итоговая оценка, dtype: float64"
      ]
     },
     "execution_count": 169,
     "metadata": {},
     "output_type": "execute_result"
    }
   ],
   "source": [
    "# Копируем датафрейм\n",
    "df_temp = df.copy()\n",
    "\n",
    "# Умножаем значения столбца на 2\n",
    "df_temp['Итоговая оценка'] = df_temp['Итоговая оценка'].apply(lambda x: x * 2)\n",
    "\n",
    "# Выводим случайные 5 строк\n",
    "df_temp['Итоговая оценка'].sample(5)"
   ]
  },
  {
   "cell_type": "markdown",
   "metadata": {},
   "source": [
    "Также мы можем удобно отображать графики, посольку основные библиотеки плотно интегрированы с пандосом"
   ]
  },
  {
   "cell_type": "code",
   "execution_count": 170,
   "metadata": {},
   "outputs": [],
   "source": [
    "%matplotlib inline\n",
    "import matplotlib as mpl\n",
    "import matplotlib.pyplot as plt\n",
    "import seaborn as sns\n",
    "%config InlineBackend.figure_format = 'retina'\n",
    "plt.rcParams['figure.figsize'] = 8, 5\n",
    "plt.rcParams['font.size'] = 12\n",
    "mpl.rcParams['savefig.format'] = 'pdf'\n",
    "sns.set_style('darkgrid')"
   ]
  },
  {
   "cell_type": "code",
   "execution_count": 171,
   "metadata": {},
   "outputs": [
    {
     "data": {
      "text/plain": [
       "<Axes: xlabel='Итоговая оценка', ylabel='Count'>"
      ]
     },
     "execution_count": 171,
     "metadata": {},
     "output_type": "execute_result"
    },
    {
     "data": {
      "image/png": "[encoded data removed]",
      "text/plain": [
       "<Figure size 800x500 with 1 Axes>"
      ]
     },
     "metadata": {
      "image/png": {
       "height": 451,
       "width": 703
      }
     },
     "output_type": "display_data"
    }
   ],
   "source": [
    "sns.histplot(df['Итоговая оценка'], bins=10, kde=True)"
   ]
  },
  {
   "cell_type": "code",
   "execution_count": 172,
   "metadata": {},
   "outputs": [
    {
     "data": {
      "text/plain": [
       "<Axes: xlabel='Итоговая оценка'>"
      ]
     },
     "execution_count": 172,
     "metadata": {},
     "output_type": "execute_result"
    },
    {
     "data": {
      "image/png": "[encoded data removed]",
      "text/plain": [
       "<Figure size 800x500 with 1 Axes>"
      ]
     },
     "metadata": {
      "image/png": {
       "height": 451,
       "width": 640
      }
     },
     "output_type": "display_data"
    }
   ],
   "source": [
    "sns.boxplot(x='Итоговая оценка', data=df)"
   ]
  },
  {
   "cell_type": "markdown",
   "metadata": {},
   "source": [
    "В качестве развлечения давайте построим распредления среди женщин и мужчин.\n",
    "\n",
    "Самый простой способ для того, чтобы это сделать это соотнести имена с банком женских имен.\n",
    "\n",
    "Давайте загрузим такой словарь"
   ]
  },
  {
   "cell_type": "code",
   "execution_count": 173,
   "metadata": {},
   "outputs": [
    {
     "name": "stdout",
     "output_type": "stream",
     "text": [
      "{'Патриция', 'Рузана', 'Анджела', 'Гая', 'Клеопатра', 'Фёкла', 'Евлалия', 'Вероника', 'Пальмира', 'Барбара', 'Кириакия', 'Лаура', 'Бланка', 'Виктбрия', 'Рахиль', 'Минодора', 'Антония', 'Марта', 'Феодула', 'Алеся', 'Феодотия', 'Цветана', 'Флориана', 'Рада', 'Одетта', 'Гали', 'Клара', 'Геновефа', 'Евтропия', 'Ирина', 'Лариса', 'Минна', 'Антониана', 'Лукиана', 'Агафоклия', 'Дорофея', 'Анфия', 'Леда', 'Назира', 'Джана', 'Елена', 'Ширин', 'Юлиана', 'Фиста', 'Хаврония', 'Эрика', 'Даная', 'Гражина', 'Ольда', 'Домна', 'Аста', 'Варвара', 'Бибиана', 'Тала', 'Маргарита', 'Анатолия', 'Бирута', 'Аделия', 'Малина', 'Розалия', 'Эмилиана', 'Авдотья', 'Генриетта', 'Аграфена', 'Рафаила', 'Корнелия', 'Млада', 'Целестина', 'Злата', 'Иоанна', 'Гюзель', 'Зоя', 'Малика', 'Федосия', 'Янсылу', 'Снандулия', 'Каллиникия', 'Мальвина', 'Мстислава', 'Перпетуя', 'Юна', 'Домника', 'Мелания', 'Ростислава', 'Христя', 'Лолита', 'Есения', 'Зара', 'Консуэлла', 'Леонила', 'Павла', 'Препедигна', 'Сильвестра', 'Веста', 'Кикилия', 'Фортуната', 'Салтанат', 'Аргентея', 'Таисья', 'Аэлита', 'Феодора', 'Марфа', 'Мария', 'Виталина', 'Динара', 'Евника', 'Каролина', 'Мариам', 'Нида', 'Офелия', 'Победа', 'Митродора', 'Фомаида', 'Изольда', 'Маркиана', 'Маркеллина', 'Руфиниана', 'Эдита', 'Октавия', 'Харита', 'Ревмира', 'Элиза', 'Джулия', 'Илария', 'Азелла', 'Арминия', 'Леонтина', 'Марионелла', 'Васса', 'Газама', 'Филофея', 'Фотина', 'Марксина', 'Памела', 'Алешан', 'Гемина', 'Гонеста', 'Патрикия', 'Маринэ', 'Любава', 'Доса', 'Эльза', 'Федосья', 'Зураб', 'Иовилла', 'Гала', 'Янина', 'Каздоя', 'Феруза', 'Джафара', 'Фотинья', 'Кира', 'Феоктиста', 'Аделина', 'Андрея', 'Октябрина', 'Транквиллина', 'Мариана', 'Амина', 'Оливия', 'Дигна', 'Вербния', 'Лилиана', 'Радослава', 'Фотиния', 'Модеста', 'Анжелика', 'Евлампия', 'Фавстина', 'Гемелла', 'Фаина', 'Богдана', 'Адина', 'Феонилла', 'Леонина', 'Розалина', 'Манефа', 'Лукреция', 'Февронья', 'Васила', 'Виктория', 'Зухра', 'Стелла', 'Элиана', 'Кириана', 'Фая', 'Евсевия', 'Каллиста', 'Сосипатра', 'Алла', 'Гея', 'Люсьена', 'Диля', 'Венедикта', 'Сатира', 'Кристина', 'Эльга', 'Мэрилант', 'Катарина', 'Июлия', 'Нора', 'Розина', 'Илона', 'Лея', 'Ирада', 'Горгония', 'Лота', 'Сильвия', 'Луиза', 'Юния', 'Доброслава', 'Бабетта', 'Шангуль', 'Вивиана', 'Ильина', 'Гульназ', 'Беата', 'Аксинья', 'Михалина', 'Юнона', 'Альбертина', 'Юханна', 'Цвета', 'Ленина', 'Санта', 'Плакилла', 'Серафима', 'Михайлина', 'Звезда', 'Владислава', 'Габриэлла', 'Нана', 'Зенона', 'Сарра', 'Кирилла', 'Рогнеда', 'Зина', 'Теодора', 'Мариамна', 'Кандида', 'Милена', 'Регина', 'Милютина', 'Севастьяна', 'Кама', 'Епистима', 'Яна', 'Зари', 'Наиля', 'Петрония', 'Лора', 'Снежана', 'Симона', 'Юстина', 'Рипсимия', 'Глория', 'Инга', 'Ульяна', 'Мерона', 'Марианна', 'Далия', 'Лейла', 'Лина', 'Валерия', 'Эвелина', 'Адолия', 'София', 'Роберта', 'Милица', 'Феона', 'Алевтина', 'Дарья', 'Дуклида', 'Каллисфения', 'Прискилла', 'Франсуаза', 'Феозва', 'Хриса', 'Розамунда', 'Летиция', 'Норгул', 'Сания', 'Бронислава', 'Чулпан', 'Гольпира', 'Гульмира', 'Зарема', 'Клотильда', 'Лукерья', 'Арсения', 'Епистимия', 'Филомена', 'Ипполита', 'Хариса', 'Янита', 'Иоланта', 'Тигрия', 'Светозара', 'Людмила', 'Ида', 'Савелла', 'Денесия', 'Доната', 'Амелия', 'Андроника', 'Лайма', 'Зинат', 'Платонида', 'Ангелина', 'Гортензия', 'Федотья', 'Галатея', 'Калерия', 'Ариадна', 'Софья', 'Аврея', 'Валия', 'Веджиха', 'Флоренция', 'Магна', 'Слава', 'Диодора', 'Евномия', 'Артемия', 'Влада', 'Магдалена', 'Тихомира', 'Селестина', 'Евангелина', 'Ефросиния', 'Алико', 'Калида', 'Воислава', 'Хиония', 'Созия', 'Валида', 'Леонида', 'Поликсения', 'Прасковья', 'Агнесса', 'Агафия', 'Линда', 'Марина', 'Марселина', 'Эсфирь', 'Мартина', 'Любомила', 'Виолетта', 'Фарида', 'Стефанида', 'Паисия', 'Воля', 'Адиля', 'Аделаида', 'Майда', 'Радомира', 'Гаджимет', 'Рема', 'Зиновия', 'Элисса', 'Карина', 'Чеслава', 'Макрина', 'Кима', 'Секлетинья', 'Гизелла', 'Айжан', 'Мирдза', 'Беатриса', 'Екатерина', 'Любомира', 'Оксана', 'Румия', 'Ева', 'Сюзанна', 'Элизабет', 'Берта', 'Радмила', 'Ванда', 'Шарлотта', 'Сима', 'Бландина', 'Валенсия', 'Феофила', 'Фредерика', 'Аурелия', 'Вацлава', 'Резета', 'Доротея', 'Анфиса', 'Фрида', 'Арабелла', 'Нимфа', 'Викентия', 'Витольда', 'Галина', 'Лебния', 'Ксаверта', 'Латафат', 'Элеонора', 'Мира', 'Гера', 'Флора', 'Неонила', 'Юрия', 'Мамелфа', 'Ноябрина', 'Адриана', 'Зинаида', 'Велислава', 'Мина', 'Фелициана', 'Азалия', 'Лилия', 'Казимира', 'Лонгина', 'Нунехия', 'Ружена', 'Любовь', 'Филиппина', 'Гликерия', 'Поплия', 'Конкордия', 'Анисия', 'Марья', 'Евфросиния', 'Вереника', 'Агна', 'Земфира', 'Дина', 'Евфимия', 'Фервуфа', 'Хариесса', 'Клена', 'Изабелла', 'Афанасия', 'Федоза', 'Васёна', 'Петра', 'Марьяна', 'Милия', 'Устина', 'Вида', 'Муза', 'Агафья', 'Дайна', 'Сибилла', 'Фаня', 'Домитилла', 'Маина', 'Матрёна', 'Калиса', 'Агита', 'Феликса', 'Феодулия', 'Адельфина', 'Сильвана', 'Фебния', 'Клавдия', 'Вера', 'Грета', 'Ирма', 'Петронилла', 'Савватия', 'Текуса', 'Элахе', 'Олимпия', 'Паулина', 'Федора', 'Иванна', 'Степанида', 'Аксиния', 'Иола', 'Евникия', 'Добромила', 'Нонна', 'Жозефина', 'Амалия', 'Агафа', 'Домникия', 'Альфия', 'Правдина', 'Паула', 'Эра', 'Харитина', 'Милослава', 'Радислава', 'Рашам', 'Наркисса', 'Виталия', 'Веселина', 'Береслава', 'Радость', 'Алфея', 'Божена', 'Гулара', 'Фессалоникия', 'Исидора', 'Дионина', 'Ираида', 'Евдоксия', 'Илзе', 'Мая', 'Тома', 'Инна', 'Гертруда', 'Ефимия', 'Василида', 'Геннадия', 'Лавиния', 'Кирьяна', 'Акгюль', 'Нинель', 'Параскева', 'Светлана', 'Велимира', 'Гения', 'Ноэми', 'Марионилла', 'Германа', 'Юлия', 'Тихослава', 'Максима', 'Адель', 'Филарета', 'Градислава', 'Фридерика', 'Галима', 'Видина', 'Хильда', 'Виленина', 'Викторина', 'Христина', 'Анастасия', 'Галя', 'Геласия', 'Мариетта', 'Урсула', 'Цецилия', 'Дея', 'Томила', 'Эллина', 'Нада', 'Диляра', 'Мадина', 'Паллидия', 'Виргиния', 'Ивона', 'Медея', 'Юлдуз', 'Василиса', 'Станислава', 'Эмма', 'Ария', 'Олеся', 'Христиана', 'Георгина', 'Алсу', 'Синклитикия', 'Агния', 'Федула', 'Дора', 'Надежда', 'Феодосия', 'Эллада', 'Альфреа', 'Ия', 'Дросида', 'Фанни', 'Доминика', 'Климентина', 'Зарина', 'Лада', 'Ася', 'Домнина', 'Анита', 'Декабрена', 'Акилина', 'Жанна', 'Олимпиодора', 'Купава', 'Селина', 'Лидия', 'Вестита', 'Джамиля', 'Секлетея', 'Ядвига', 'Юдита', 'Замира', 'Евфалия', 'Наталья', 'Кетевань', 'Дарина', 'Наина', 'Фессалоника', 'Малания', 'Марлена', 'Ненила', 'Ярослава', 'Лукия', 'Августа', 'Русана', 'Кора', 'Сиотвия', 'Аделла', 'Сола', 'Ботогоз', 'Денница', 'Алина', 'Лола', 'Нимфодора', 'Сусанна', 'Аврелия', 'Горислава', 'Леся', 'Ангела', 'Забава', 'Дамира', 'Мавра', 'Розалинда', 'Василина', 'Трифена', 'Ефимья', 'Эльмира', 'Еликонида', 'Устиния', 'Самона', 'Сильва', 'Ангелика', 'Анжела', 'Борислава', 'Ильмира', 'Новелла', 'Руфина', 'Трофима', 'Феопистия', 'Эннафа', 'Василия', 'Ливия', 'Моника', 'Анисья', 'Далила', 'Тина', 'Элоиза', 'Евстафия', 'Сталина', 'Валентина', 'Глафира', 'Глорибза', 'Амата', 'Антонина', 'Клариса', 'Флорентина', 'Венуста', 'Джульетта', 'Фабиана', 'Гаянэ', 'Фатима', 'Анабела', 'Евтихия', 'Алена', 'Савина', 'Агарь', 'Ермиония', 'Анна', 'Гелена', 'Лавра', 'Аида', 'Апраксин', 'Раиса', 'Светислава', 'Аглая', 'Нелли', 'Эстер', 'Таисия', 'Хрисия', 'Анфуса', 'Вилена', 'Владимира', 'Филиппа', 'Сира', 'Паллада', 'Даниэла', 'Федотия', 'Эсмеральда', 'Багдагуль', 'Венцеслава', 'Иветта', 'Бенедикта', 'Гелла', 'Пелагея', 'Бруна', 'Святослава', 'Агата', 'Пиама', 'Радана', 'Франческа', 'Заира', 'Астра', 'Айта', 'Марьям', 'Полактия', 'Ревекка', 'Элина', 'Дебора', 'Просдока', 'Люция', 'Люцина', 'Милана', 'Пинна', 'Роксана', 'Вевея', 'Мирра', 'Асия', 'Гонората', 'Майя', 'Павлина', 'Плакида', 'Розмари', 'Сабина', 'Керкира', 'Моика', 'Нина', 'Эльвира', 'Капитолина', 'Алексина', 'Нателла', 'Зульфия', 'Донара', 'Всеслава', 'Аполлония', 'Агапия', 'Настасия', 'Феосовия', 'Дастагуль', 'Малинья', 'Манана', 'Артемида', 'Дариа', 'Алиса', 'Инесса', 'Владлена', 'Жеральдина', 'Феогния', 'Дия', 'Филиппин', 'Перегрина', 'Болеслава', 'Агапа', 'Доброгнева', 'Евпраксия', 'Эдда', 'Поликсена', 'Феврония', 'Ануш', 'Саида', 'Августина', 'Анэля', 'Стефания', 'Диана', 'Евстолия', 'Биргит', 'Евгения', 'Владилена', 'Келестина', 'Устинья', 'Вита', 'Флавия', 'Урбана', 'Вива', 'Улдуза', 'Фея', 'Тереза', 'Антигона', 'Елизавета', 'Лемира', 'Фива', 'Апрелия', 'Мастридия', 'Полина', 'Апфия', 'Альберта', 'Добромира', 'Леокадия', 'Феодота', 'Антонида', 'Романа', 'Фекла', 'Римма', 'Альфреда', 'Матильда', 'Ада', 'Тахмина', 'Рената', 'Голиндуха', 'Ирена', 'Камила', 'Русина', 'Александрина', 'Бернадетта', 'Мелитика', 'Софрония', 'Фаиза', 'Янка', 'Олдама', 'Венера', 'Касиния', 'Ива', 'Тарасия', 'Петрина', 'Юзефа', 'Фивея', 'Ольвия', 'Руслана', 'Анфима', 'Галла', 'Бояна', 'Евдокия', 'Александра', 'Камилла', 'Ксанфиппа', 'Фетиния', 'Азиза', 'Хильдегарда', 'Виталика', 'Улита', 'Аполлинария', 'Доля', 'Зита', 'Матрона', 'Филонилла', 'Эрнестина', 'Альвина', 'Инара', 'Мартиниана', 'Мануэла', 'Альжбета', 'Карима', 'Евмения', 'Олимпиада', 'Фелица', 'Андрона', 'Дионисия', 'Ифигения', 'Шушаника', 'Досифея', 'Бригитта', 'Данута', 'Илия', 'Мирослава', 'Агафоника', 'Агриппина', 'Алана', 'Вила', 'Настасья', 'Арина', 'Флёна', 'Евминия', 'Саломея', 'Вилора', 'Северина', 'Фекуса', 'Виринея', 'Вета', 'Вивея', 'Фетинья', 'Фелицата', 'Меланья', 'Феофания', 'Меркурия', 'Еванфия', 'Марица', 'Марьина', 'Селена', 'Суфия', 'Констанция', 'Юдифь', 'Юлиания', 'Дана', 'Пульхерья', 'Аза', 'Татьяна', 'Амелфа', 'Эдит', 'Ефросинья', 'Идея', 'Эрнеста', 'Нила', 'Соломонида', 'Лиана', 'Зарифа', 'Лира', 'Ксения', 'Тавифа', 'Аглаида', 'Деена', 'Франциска', 'Дария', 'Флорида', 'Руфь', 'Варя', 'Белла', 'Клементина', 'Василла', 'Ника', 'Изида', 'Радосвета', 'Пульхерия', 'Магда', 'Таира', 'Фелиция', 'Лия', 'Эгина', 'Миропия', 'Эмилия', 'Элла', 'Вильгельмина', 'Арлета', 'Гульнара', 'Альбина', 'Магдалина', 'Роза', 'Фантика', 'Галата', 'Джемма', 'Наталия', 'Архелия', 'Халима', 'Алёна', 'Аврора', 'Фавста', 'Акулина', 'Ольга', 'Мадлена', 'Тамара', 'Фелицитата', 'Мариэтта', 'Марка'}\n"
     ]
    }
   ],
   "source": [
    "with open(file='tmp/female_names_rus.txt',encoding='utf8') as f:\n",
    "    c = f.readlines()\n",
    "    c = set(map(str.strip, c))\n",
    "    print(c)"
   ]
  },
  {
   "cell_type": "code",
   "execution_count": 174,
   "metadata": {},
   "outputs": [
    {
     "data": {
      "text/html": [
       "<div>\n",
       "<style scoped>\n",
       "    .dataframe tbody tr th:only-of-type {\n",
       "        vertical-align: middle;\n",
       "    }\n",
       "\n",
       "    .dataframe tbody tr th {\n",
       "        vertical-align: top;\n",
       "    }\n",
       "\n",
       "    .dataframe thead th {\n",
       "        text-align: right;\n",
       "    }\n",
       "</style>\n",
       "<table border=\"1\" class=\"dataframe\">\n",
       "  <thead>\n",
       "    <tr style=\"text-align: right;\">\n",
       "      <th></th>\n",
       "      <th>Студент</th>\n",
       "      <th>Гендер</th>\n",
       "    </tr>\n",
       "  </thead>\n",
       "  <tbody>\n",
       "    <tr>\n",
       "      <th>0</th>\n",
       "      <td>Андреева Анастасия</td>\n",
       "      <td>F</td>\n",
       "    </tr>\n",
       "    <tr>\n",
       "      <th>31</th>\n",
       "      <td>Семёнова Вера</td>\n",
       "      <td>F</td>\n",
       "    </tr>\n",
       "    <tr>\n",
       "      <th>26</th>\n",
       "      <td>Резепова Софья</td>\n",
       "      <td>F</td>\n",
       "    </tr>\n",
       "    <tr>\n",
       "      <th>22</th>\n",
       "      <td>Нестерская Мария</td>\n",
       "      <td>F</td>\n",
       "    </tr>\n",
       "    <tr>\n",
       "      <th>14</th>\n",
       "      <td>Кочетков Александр</td>\n",
       "      <td>M</td>\n",
       "    </tr>\n",
       "    <tr>\n",
       "      <th>7</th>\n",
       "      <td>Валялов Даниил</td>\n",
       "      <td>M</td>\n",
       "    </tr>\n",
       "    <tr>\n",
       "      <th>2</th>\n",
       "      <td>Ахряпина Мария</td>\n",
       "      <td>F</td>\n",
       "    </tr>\n",
       "    <tr>\n",
       "      <th>32</th>\n",
       "      <td>Тимерханов Артём</td>\n",
       "      <td>M</td>\n",
       "    </tr>\n",
       "    <tr>\n",
       "      <th>34</th>\n",
       "      <td>Ходорыч Василий</td>\n",
       "      <td>M</td>\n",
       "    </tr>\n",
       "    <tr>\n",
       "      <th>25</th>\n",
       "      <td>Панин Николай</td>\n",
       "      <td>M</td>\n",
       "    </tr>\n",
       "  </tbody>\n",
       "</table>\n",
       "</div>"
      ],
      "text/plain": [
       "               Студент Гендер\n",
       "0   Андреева Анастасия      F\n",
       "31       Семёнова Вера      F\n",
       "26      Резепова Софья      F\n",
       "22    Нестерская Мария      F\n",
       "14  Кочетков Александр      M\n",
       "7       Валялов Даниил      M\n",
       "2       Ахряпина Мария      F\n",
       "32    Тимерханов Артём      M\n",
       "34     Ходорыч Василий      M\n",
       "25       Панин Николай      M"
      ]
     },
     "execution_count": 174,
     "metadata": {},
     "output_type": "execute_result"
    }
   ],
   "source": [
    "df['Гендер'] = df['Студент'].apply(lambda x: 'F' if x.split()[1] in c else 'M')\n",
    "\n",
    "df[['Студент','Гендер']].sample(10)"
   ]
  },
  {
   "cell_type": "code",
   "execution_count": 175,
   "metadata": {},
   "outputs": [
    {
     "data": {
      "image/png": "[encoded data removed]",
      "text/plain": [
       "<Figure size 800x600 with 1 Axes>"
      ]
     },
     "metadata": {
      "image/png": {
       "height": 550,
       "width": 689
      }
     },
     "output_type": "display_data"
    }
   ],
   "source": [
    "plt.figure(figsize=(8, 6))\n",
    "sns.boxplot(x='Гендер', y='Итоговая оценка', data=df, color='purple')\n",
    "plt.title('Распределение оценок по Алгосам 1 в зависмости от пола')\n",
    "plt.show()"
   ]
  },
  {
   "cell_type": "code",
   "execution_count": 176,
   "metadata": {},
   "outputs": [
    {
     "data": {
      "image/png": "[encoded data removed]",
      "text/plain": [
       "<Figure size 800x500 with 1 Axes>"
      ]
     },
     "metadata": {
      "image/png": {
       "height": 451,
       "width": 689
      }
     },
     "output_type": "display_data"
    }
   ],
   "source": [
    "male_data = df[df['Гендер'] == 'M']['Итоговая оценка']\n",
    "female_data = df[df['Гендер'] == 'F']['Итоговая оценка']\n",
    "\n",
    "sns.histplot(male_data, kde=True, color='blue', label='Мальчики')\n",
    "sns.histplot(female_data, kde=True, color='red', label='Девушки')\n",
    "\n",
    "plt.legend()\n",
    "plt.xlabel('Итоговая оценка')\n",
    "plt.ylabel('Частота')\n",
    "\n",
    "plt.show()"
   ]
  },
  {
   "cell_type": "markdown",
   "metadata": {},
   "source": [
    "В0о0общем пандас очень крутой, его **нужно** знать"
   ]
  },
  {
   "cell_type": "markdown",
   "metadata": {},
   "source": [
    "### 4. HTTP"
   ]
  },
  {
   "cell_type": "markdown",
   "metadata": {},
   "source": [
    "HTTP (HyperText Transfer Protocol) — это протокол, который используется для передачи данных в интернете. Он является основой для обмена данными между клиентом (например, веб-браузером) и сервером. Понимание HTTP важно для скрапинга и парсинга, так как эти процессы часто включают отправку HTTP-запросов и получение HTTP-ответов.\n",
    "\n",
    "#### Основные понятия HTTP\n",
    "\n",
    "1. **URL (Uniform Resource Locator)**: Адрес ресурса в интернете. Пример: `https://example.com/path/to/resource`.\n",
    "\n",
    "2. **HTTP-методы**: Определяют тип операции, которую клиент хочет выполнить над ресурсом. Основные методы:\n",
    "    - **GET**: Запросить данные с сервера. Используется для получения информации.\n",
    "    - **POST**: Отправить данные на сервер. Используется для создания новых ресурсов.\n",
    "    - **PUT**: Обновить существующий ресурс на сервере.\n",
    "    - **DELETE**: Удалить ресурс на сервере.\n",
    "\n",
    "3. **HTTP-заголовки**: Метаданные, которые передаются вместе с запросами и ответами. Примеры заголовков:\n",
    "    - `User-Agent`: Информация о клиенте (например, браузере).\n",
    "    - `Content-Type`: Тип данных, передаваемых в запросе или ответе (например, `application/json`).\n",
    "\n",
    "4. **HTTP-статусы**: Код состояния, который сервер возвращает в ответ на запрос. Примеры:\n",
    "    - `200 OK`: Запрос успешно выполнен.\n",
    "    - `404 Not Found`: Ресурс не найден.\n",
    "    - `500 Internal Server Error`: Внутренняя ошибка сервера.\n",
    "\n",
    "#### Пример HTTP-запроса и ответа\n",
    "\n",
    "**Запрос:**"
   ]
  },
  {
   "cell_type": "code",
   "execution_count": null,
   "metadata": {},
   "outputs": [],
   "source": [
    "!curl -v ya.ru"
   ]
  },
  {
   "cell_type": "code",
   "execution_count": null,
   "metadata": {},
   "outputs": [],
   "source": [
    "!curl -v https://rosstat.gov.ru/ -o tmp/rosstat.html"
   ]
  },
  {
   "cell_type": "markdown",
   "metadata": {},
   "source": [
    "Давайте откроем html и посмотрим из чего он состоит?"
   ]
  },
  {
   "cell_type": "markdown",
   "metadata": {},
   "source": [
    "Раз все так просто зачем нам отдельная пара по http и прочее?\n",
    "\n",
    "давайте попробуем посмотреть на другой пример: "
   ]
  },
  {
   "cell_type": "code",
   "execution_count": null,
   "metadata": {},
   "outputs": [],
   "source": [
    "!curl -v https://dzen.ru/news -o tmp/dzen.html"
   ]
  },
  {
   "cell_type": "markdown",
   "metadata": {},
   "source": [
    "Почему-то ничего не получилось))\n",
    "\n",
    "Двайте попробуем это обходить "
   ]
  },
  {
   "cell_type": "markdown",
   "metadata": {},
   "source": [
    "### 5. Виды скрепинга"
   ]
  },
  {
   "cell_type": "markdown",
   "metadata": {},
   "source": [
    "#### 5.1 GUI Скрепинг"
   ]
  },
  {
   "cell_type": "code",
   "execution_count": null,
   "metadata": {},
   "outputs": [],
   "source": [
    "!pip3 install selenium webdriver-manager"
   ]
  },
  {
   "cell_type": "code",
   "execution_count": null,
   "metadata": {},
   "outputs": [],
   "source": [
    "from selenium import webdriver\n",
    "from selenium.webdriver.common.by import By\n",
    "from selenium.webdriver.chrome.service import Service\n",
    "from webdriver_manager.chrome import ChromeDriverManager\n",
    "import time\n",
    "service = Service(ChromeDriverManager().install())\n",
    "driver = webdriver.Chrome(service=service)\n",
    "\n",
    "url = 'https://dzen.ru/news'\n",
    "\n",
    "driver.get(url)\n",
    "time.sleep(10)\n",
    "\n",
    "html_content = driver.page_source\n",
    "print(html_content)\n",
    "\n",
    "driver.quit()"
   ]
  },
  {
   "cell_type": "markdown",
   "metadata": {},
   "source": [
    "#### 5.2 Request скрепинг"
   ]
  },
  {
   "cell_type": "code",
   "execution_count": null,
   "metadata": {},
   "outputs": [],
   "source": [
    "import requests\n",
    "from bs4 import BeautifulSoup\n",
    "\n",
    "url = 'https://www.1tv.ru/'\n",
    "\n",
    "response = requests.get(url)\n",
    "\n",
    "if response.status_code == 200:\n",
    "    print(response.content)\n",
    "else:\n",
    "    print(f'Failed to retrieve the page. Status code: {response.status_code}')"
   ]
  },
  {
   "cell_type": "markdown",
   "metadata": {},
   "source": [
    "#### 6 Парсинг"
   ]
  }
 ],
 "metadata": {
  "kernelspec": {
   "display_name": "Python 3",
   "language": "python",
   "name": "python3"
  },
  "language_info": {
   "codemirror_mode": {
    "name": "ipython",
    "version": 3
   },
   "file_extension": ".py",
   "mimetype": "text/x-python",
   "name": "python",
   "nbconvert_exporter": "python",
   "pygments_lexer": "ipython3",
   "version": "3.11.5"
  }
 },
 "nbformat": 4,
 "nbformat_minor": 2
}
